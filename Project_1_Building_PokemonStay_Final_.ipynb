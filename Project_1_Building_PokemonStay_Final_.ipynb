{
 "cells": [
  {
   "cell_type": "markdown",
   "metadata": {},
   "source": [
    "<img src=\"http://imgur.com/1ZcRyrc.png\" style=\"float: left; margin: 15px; height: 80px\">\n",
    "\n",
    "# Project 1\n",
    "\n",
    "### Building \"Pokemon Stay\"\n",
    "\n",
    "---\n",
    "You are an analyst at a \"scrappy\" online gaming company that specializes in remakes of last year's fads.\n",
    "\n",
    "Your boss, who runs the product development team, is convinced that Pokemon Go's fatal flaw was that you had to actually move around outside. She has design mock-ups for a new game called Pokemon Stay: in this version players still need to move, but just from website to website. Pokemon gyms are now popular online destinations, and catching Pokemon in the \"wild\" simply requires browsing the internet for hours in the comfort of your home.\n",
    "\n",
    "She wants you to program a prototype version of the game, and analyze the planned content to help the team calibrate the design."
   ]
  },
  {
   "cell_type": "markdown",
   "metadata": {},
   "source": [
    "#### Package imports\n",
    "\n",
    "The pprint package below is the only package imported here, and it's not even strictly required to do any of the project. Printing python variables and objects with pprint can help to format them in a \"prettier\" way."
   ]
  },
  {
   "cell_type": "code",
   "execution_count": 1,
   "metadata": {
    "collapsed": true
   },
   "outputs": [],
   "source": [
    "from pprint import pprint"
   ]
  },
  {
   "cell_type": "markdown",
   "metadata": {},
   "source": [
    "<img src=\"http://imgur.com/l5NasQj.png\" style=\"float: left; margin: 25px 15px 0px 0px; height: 25px\">\n",
    "\n",
    "## 1. Defining a player\n",
    "\n",
    "---\n",
    "\n",
    "The player variables are:\n",
    "\n",
    "    player_id : id code unique to each player (integer)\n",
    "    player_name : entered name of the player (string)\n",
    "    time_played : number of time played the game in minutes (float)\n",
    "    player_pokemon: the player's captured pokemon (dictionary)\n",
    "    gyms_visited: ids of the gyms that a player has visited (list)\n",
    "    \n",
    "Create the components for a player object by defining each of these variables. The dictionary and list variables should just be defined as empty; you can use any (correctly typed) values for the others."
   ]
  },
  {
   "cell_type": "markdown",
   "metadata": {},
   "source": [
    "<img src=\"https://i.imgur.com/DB3I7k3.png?1\" style=\"float: left; margin: 15px 15px 0px 0px;\">\n",
    "## Solution\n",
    "\n",
    "\n",
    "---\n"
   ]
  },
  {
   "cell_type": "code",
   "execution_count": 2,
   "metadata": {},
   "outputs": [],
   "source": [
    "# Define player_1\n",
    "\n",
    "player_1_id=1\n",
    "player_1_name='joannas'\n",
    "time_played_1= 200.0\n",
    "player_1_pokemon= {}\n",
    "gyms_visited_1= []"
   ]
  },
  {
   "cell_type": "markdown",
   "metadata": {},
   "source": [
    "<img src=\"http://imgur.com/l5NasQj.png\" style=\"float: left; margin: 25px 15px 0px 0px; height: 25px\">\n",
    "\n",
    "## 2. Defining \"gym\" locations\n",
    "\n",
    "---\n",
    "\n",
    "As the sole programmer, Pokemon Stay will have to start small. To begin, there will be 10 different gym location websites on the internet. The gym locations are:\n",
    "\n",
    "    1. 'reddit.com'\n",
    "    2. 'amazon.com'\n",
    "    3. 'twitter.com'\n",
    "    4. 'linkedin.com'\n",
    "    5. 'ebay.com'\n",
    "    6. 'netflix.com'\n",
    "    7. 'sporcle.com'\n",
    "    8. 'stackoverflow.com'\n",
    "    9. 'github.com'\n",
    "    10. 'quora.com'\n",
    "\n",
    "1. Set up a list of all the gym locations. This will be a list of strings.\n",
    "2. Append two of these locations to your player's list of visited gyms.\n",
    "3. Print the list."
   ]
  },
  {
   "cell_type": "markdown",
   "metadata": {},
   "source": [
    "<img src=\"https://i.imgur.com/DB3I7k3.png?1\" style=\"float: left; margin: 15px 15px 0px 0px;\">\n",
    "## Solution\n",
    "\n",
    "\n",
    "---\n"
   ]
  },
  {
   "cell_type": "code",
   "execution_count": 3,
   "metadata": {
    "collapsed": true
   },
   "outputs": [],
   "source": [
    "# Create a list of gym location websites\n",
    "gym_locate = ['reddit.com','amazon.com','twitter.com','linkedin.com','ebay.com','netflix.com','sporcle.com','stackoverflow.com','github.com','quora.com']"
   ]
  },
  {
   "cell_type": "code",
   "execution_count": 4,
   "metadata": {
    "collapsed": true
   },
   "outputs": [],
   "source": [
    "# Append twitter.com and linkedin.com to gyms visited by player_1\n",
    "gyms_visited_1.append('twitter.com')\n",
    "gyms_visited_1.append('linkedin.com')"
   ]
  },
  {
   "cell_type": "code",
   "execution_count": 5,
   "metadata": {},
   "outputs": [
    {
     "name": "stdout",
     "output_type": "stream",
     "text": [
      "['twitter.com', 'linkedin.com']\n"
     ]
    }
   ],
   "source": [
    "# Print list of gyms visited by player_1\n",
    "print gyms_visited_1"
   ]
  },
  {
   "cell_type": "markdown",
   "metadata": {},
   "source": [
    "<img src=\"http://imgur.com/l5NasQj.png\" style=\"float: left; margin: 25px 15px 0px 0px; height: 25px\">\n",
    "\n",
    "## 3. Create a pokedex\n",
    "\n",
    "---\n",
    "\n",
    "We also need to create some pokemon to catch. Each pokemon will be defined by these variables:\n",
    "\n",
    "    pokemon_id : unique identifier for each pokemon (integer)\n",
    "    name : the name of the pokemon (string)\n",
    "    type : the category of pokemon (string)\n",
    "    hp : base hitpoints (integer)\n",
    "    attack : base attack (integer)\n",
    "    defense : base defense (integer)\n",
    "    special_attack : base special attack (integer)\n",
    "    special_defense : base sepecial defense (integer)\n",
    "    speed : base speed (integer)\n",
    "\n",
    "We are only going to create 3 different pokemon with these `pokemon_id` and `pokemon_name` values:\n",
    "\n",
    "    1 : 'charmander'\n",
    "    2 : 'squirtle'\n",
    "    3 : 'bulbasaur'\n",
    "\n",
    "Create a dictionary that will contain the pokemon. The keys of the dictionary will be the `pokemon_id` and the values will themselves dictionaries that contain the other pokemon variables. The structure of the pokedex dictionary will start like so:\n",
    "     \n",
    "     {\n",
    "         1: {\n",
    "                 'name':'charmander',\n",
    "                 'type':'fire',\n",
    "                 ...\n",
    "                 \n",
    "The `type` of charmander, squirtle, and bulbasaur should be `'fire'`, `'water'`, and `'poison'` respectively. The other values are up to you, make them anything you like!\n",
    "\n",
    "Print (or pretty print) the pokedex dictionary with the 3 pokemon."
   ]
  },
  {
   "cell_type": "markdown",
   "metadata": {},
   "source": [
    "<img src=\"https://i.imgur.com/DB3I7k3.png?1\" style=\"float: left; margin: 15px 15px 0px 0px;\">\n",
    "## Solution\n",
    "\n",
    "\n",
    "---\n",
    "\n",
    "\n",
    "### Step by step\n",
    "\n",
    "1. Create a function to add pokemon stats into a dictionary\n",
    "2. Add charmander, squirtle, and bulbasaur into the dictionary"
   ]
  },
  {
   "cell_type": "code",
   "execution_count": 6,
   "metadata": {
    "collapsed": true
   },
   "outputs": [],
   "source": [
    "# Create a function to add pokemons\n",
    "\n",
    "pokedex = {}\n",
    "\n",
    "def add_pokedex(pokemon_id,name,_type,hp,attack,defense,special_attack,special_defense,speed):\n",
    "    \n",
    "    pokedex_dict = {}\n",
    "    \n",
    "    #Add pokemon_id as integer\n",
    "    pokedex_dict['pokemon_id'] = int(pokemon_id)\n",
    "    \n",
    "    # Add name as string\n",
    "    pokedex_dict['name'] = str(name)\n",
    "    \n",
    "    # Add type as string\n",
    "    pokedex_dict['type'] = str(_type)\n",
    "    \n",
    "    # Add hp as integer\n",
    "    pokedex_dict['hp'] = int(hp)\n",
    "    \n",
    "    # Add attack as integer\n",
    "    pokedex_dict['attack'] = int(attack)\n",
    "    \n",
    "    # Add defense as integer\n",
    "    pokedex_dict['defense'] = int(defense)\n",
    "    \n",
    "    # Add special attack as integer\n",
    "    pokedex_dict['special_attack'] = int(special_attack)\n",
    "    \n",
    "    # Add special defense as integer\n",
    "    pokedex_dict['special_defense'] = int(special_defense)\n",
    "    \n",
    "    # Add speed as integer\n",
    "    pokedex_dict['speed'] = int(speed)\n",
    "    \n",
    "    pokedex[pokemon_id] = pokedex_dict\n",
    "    \n",
    "    return pokedex"
   ]
  },
  {
   "cell_type": "code",
   "execution_count": 7,
   "metadata": {},
   "outputs": [
    {
     "data": {
      "text/plain": [
       "{1: {'attack': 52,\n",
       "  'defense': 43,\n",
       "  'hp': 39,\n",
       "  'name': 'charmander',\n",
       "  'pokemon_id': 1,\n",
       "  'special_attack': 60,\n",
       "  'special_defense': 50,\n",
       "  'speed': 65,\n",
       "  'type': 'fire'},\n",
       " 2: {'attack': 48,\n",
       "  'defense': 65,\n",
       "  'hp': 44,\n",
       "  'name': 'squirtle',\n",
       "  'pokemon_id': 2,\n",
       "  'special_attack': 50,\n",
       "  'special_defense': 64,\n",
       "  'speed': 43,\n",
       "  'type': 'water'},\n",
       " 3: {'attack': 49,\n",
       "  'defense': 49,\n",
       "  'hp': 45,\n",
       "  'name': 'bulbasaur',\n",
       "  'pokemon_id': 3,\n",
       "  'special_attack': 65,\n",
       "  'special_defense': 65,\n",
       "  'speed': 45,\n",
       "  'type': 'poison'}}"
      ]
     },
     "execution_count": 7,
     "metadata": {},
     "output_type": "execute_result"
    }
   ],
   "source": [
    "# Add charmander\n",
    "\n",
    "add_pokedex(1,'charmander','fire',39,52,43,60,50,65)\n",
    "\n",
    "# Add squirtle \n",
    "\n",
    "add_pokedex(2,'squirtle','water',44,48,65,50,64,43)\n",
    "\n",
    "# Add bulbasaur\n",
    "\n",
    "add_pokedex(3,'bulbasaur','poison',45,49,49,65,65,45)\n",
    "\n"
   ]
  },
  {
   "cell_type": "code",
   "execution_count": 8,
   "metadata": {},
   "outputs": [
    {
     "name": "stdout",
     "output_type": "stream",
     "text": [
      "{1: {'attack': 52,\n",
      "     'defense': 43,\n",
      "     'hp': 39,\n",
      "     'name': 'charmander',\n",
      "     'pokemon_id': 1,\n",
      "     'special_attack': 60,\n",
      "     'special_defense': 50,\n",
      "     'speed': 65,\n",
      "     'type': 'fire'},\n",
      " 2: {'attack': 48,\n",
      "     'defense': 65,\n",
      "     'hp': 44,\n",
      "     'name': 'squirtle',\n",
      "     'pokemon_id': 2,\n",
      "     'special_attack': 50,\n",
      "     'special_defense': 64,\n",
      "     'speed': 43,\n",
      "     'type': 'water'},\n",
      " 3: {'attack': 49,\n",
      "     'defense': 49,\n",
      "     'hp': 45,\n",
      "     'name': 'bulbasaur',\n",
      "     'pokemon_id': 3,\n",
      "     'special_attack': 65,\n",
      "     'special_defense': 65,\n",
      "     'speed': 45,\n",
      "     'type': 'poison'}}\n"
     ]
    }
   ],
   "source": [
    "#Pretty print pokedex dictionary\n",
    "pprint (pokedex)"
   ]
  },
  {
   "cell_type": "markdown",
   "metadata": {},
   "source": [
    "<img src=\"http://imgur.com/l5NasQj.png\" style=\"float: left; margin: 25px 15px 0px 0px; height: 25px\">\n",
    "\n",
    "## 4. Create a data structure for players\n",
    "\n",
    "---\n",
    "\n",
    "### 4.1 \n",
    "\n",
    "In order to maintain a database of multiple players, create a dictionary that keeps track of players indexed by `player_id`. \n",
    "\n",
    "The keys of the dictionary will be `player_id` and values will be dictionaries containing each player's variables (from question 1). \n",
    "\n",
    "Construct the `players` dictionary and insert the player that you defined in question 1, then print `players`."
   ]
  },
  {
   "cell_type": "markdown",
   "metadata": {},
   "source": [
    "<img src=\"https://i.imgur.com/DB3I7k3.png?1\" style=\"float: left; margin: 15px 15px 0px 0px;\">\n",
    "## Solution\n",
    "\n",
    "\n",
    "---\n",
    "\n",
    "\n",
    "### Step by step\n",
    "\n",
    "1. Construct an empty dictionary (main dictionary) \n",
    "2. Construct an empty dictionary internally (to store player's stats)\n",
    "3. Convert the inputs into desired object types\n",
    "4. *Prevent overwriting - Print error message if player id already exist \n",
    "5. Print error message if input is not of desired object type\n",
    "6. Print error message if gym location input is not in list of gym locations\n",
    "7. Add inputs into internal player's stats dictionary\n",
    "8. Add stats dictionary into main players dictionary\n"
   ]
  },
  {
   "cell_type": "code",
   "execution_count": 9,
   "metadata": {},
   "outputs": [],
   "source": [
    "#Construct an empty players dictionary (key=player id, value=player stats)\n",
    "\n",
    "players = {}\n",
    "\n",
    "def add_player(i_player_id,i_player_name,i_time_played,i_player_pokemon=None,i_gyms_visited=None):\n",
    "    \n",
    "    \"\"\"This function returns a dictionary with key as player's id and value containing a dictionary of player's stats.\"\"\"\n",
    "    \"\"\"i_player_id and i_time_played must be numeric.\"\"\"\n",
    "    \n",
    "    # Construct empty dictionary to store player's stats\n",
    "    \n",
    "    player_stats = {}\n",
    "    \n",
    "    # Prevent overwriting of players\n",
    "    \n",
    "    if int(i_player_id) in players.keys():\n",
    "        print 'player_id already exist. please use player_id '+str(max(players.keys())+1)+' player not added into dictionary.'\n",
    "    \n",
    "    # Convert player_id into integer, add into player_stats\n",
    "    \n",
    "    else:\n",
    "        try:\n",
    "            player_stats['player_id'] = int(i_player_id)\n",
    "            key_player_id = int(i_player_id)\n",
    "\n",
    "        except:\n",
    "            print'player_id must be an integer. player not added into dictionary.'\n",
    "\n",
    "    # Convert player_name into string, add into player_stats\n",
    "    \n",
    "    player_stats['player_name'] = str(i_player_name)\n",
    "\n",
    "    # Convert player_stats into float\n",
    "    \n",
    "    try:\n",
    "        player_stats['time_played'] = float(i_time_played)\n",
    "        \n",
    "    except:\n",
    "        print'time_played must be a float in minutes'\n",
    "    \n",
    "    ## Add player's pokemon dictionary\n",
    "    \n",
    "    # Returns empty dictionary if no input or empty dictionary\n",
    "    \n",
    "    if i_player_pokemon == None:\n",
    "        player_stats['player_pokemon'] = {}\n",
    "    \n",
    "    elif type(i_player_pokemon) == dict :\n",
    "        player_stats['player_pokemon'] = i_player_pokemon     \n",
    "    \n",
    "    #error message if not a dictionary, return empty dictionary\n",
    "    \n",
    "    else:\n",
    "        player_stats['player_pokemon'] = {}\n",
    "        print 'player\\'s pokemon must be a dictionary'\n",
    "        \n",
    "    \n",
    "    ## Add gym location from gym_locate\n",
    "    \n",
    "    #returns empty list if no input\n",
    "    \n",
    "    if i_gyms_visited == None:\n",
    "        player_stats['gyms_visited'] = []\n",
    "    \n",
    "    #error message if not a list, return empty list\n",
    "    \n",
    "    elif type(i_gyms_visited) != list:\n",
    "        \n",
    "        player_stats['gyms_visited'] = []\n",
    "        print 'please input list of gyms visited. each gym location must be a string'\n",
    "    \n",
    "    #return input if in gym_locate\n",
    "    \n",
    "    else:\n",
    "        \n",
    "        p_gym_list = []\n",
    "        for p_gym in i_gyms_visited:\n",
    "            if p_gym in gym_locate: \n",
    "                p_gym_list.append(p_gym)\n",
    "                \n",
    "            #error message if gym does not exist in list of gym_locate\n",
    "            \n",
    "            else:\n",
    "                player_stats['gyms_visited'] = []\n",
    "                print str(p_gym)+' is not a gym location'\n",
    "        \n",
    "        player_stats['gyms_visited'] = p_gym_list\n",
    "    \n",
    "    try:\n",
    "        players[key_player_id] = player_stats\n",
    "        \n",
    "    except:\n",
    "        None\n",
    "    \n",
    "    return players\n"
   ]
  },
  {
   "cell_type": "code",
   "execution_count": 10,
   "metadata": {},
   "outputs": [
    {
     "data": {
      "text/plain": [
       "{1: {'gyms_visited': ['twitter.com', 'linkedin.com'],\n",
       "  'player_id': 1,\n",
       "  'player_name': 'joannas',\n",
       "  'player_pokemon': {},\n",
       "  'time_played': 200.0}}"
      ]
     },
     "execution_count": 10,
     "metadata": {},
     "output_type": "execute_result"
    }
   ],
   "source": [
    "# Insert player_1 in players dictionary\n",
    "add_player(player_1_id,player_1_name,time_played_1,player_1_pokemon,gyms_visited_1)"
   ]
  },
  {
   "cell_type": "code",
   "execution_count": 11,
   "metadata": {},
   "outputs": [
    {
     "name": "stdout",
     "output_type": "stream",
     "text": [
      "{1: {'gyms_visited': ['twitter.com', 'linkedin.com'],\n",
      "     'player_id': 1,\n",
      "     'player_name': 'joannas',\n",
      "     'player_pokemon': {},\n",
      "     'time_played': 200.0}}\n"
     ]
    }
   ],
   "source": [
    "# Print players\n",
    "pprint (players)"
   ]
  },
  {
   "cell_type": "markdown",
   "metadata": {},
   "source": [
    "---\n",
    "\n",
    "### 4.2\n",
    "\n",
    "Create a new player with `player_id = 2` in the `players` dictionary. Leave the `'player_pokemon'` dictionary empty. Append `'alcatraz'` and `'pacific_beach'` to the `'gyms_visited'` list for player 2.\n",
    "\n",
    "The `'player_name'` and `'time_played'` values are up to you, but must be a string and float, respectively.\n",
    "\n",
    "Remember, the player_id is the key for the player in the players dictionary.\n",
    "\n",
    "Print the `players` dictionary with the new player inserted."
   ]
  },
  {
   "cell_type": "markdown",
   "metadata": {},
   "source": [
    "<img src=\"https://i.imgur.com/DB3I7k3.png?1\" style=\"float: left; margin: 15px 15px 0px 0px;\">\n",
    "## Solution\n",
    "\n",
    "\n",
    "---\n",
    "\n"
   ]
  },
  {
   "cell_type": "code",
   "execution_count": 12,
   "metadata": {},
   "outputs": [
    {
     "name": "stdout",
     "output_type": "stream",
     "text": [
      "alcatraz is not a gym location\n",
      "pacific_beach is not a gym location\n"
     ]
    },
    {
     "data": {
      "text/plain": [
       "{1: {'gyms_visited': ['twitter.com', 'linkedin.com'],\n",
       "  'player_id': 1,\n",
       "  'player_name': 'joannas',\n",
       "  'player_pokemon': {},\n",
       "  'time_played': 200.0},\n",
       " 2: {'gyms_visited': [],\n",
       "  'player_id': 2,\n",
       "  'player_name': 'kenneth',\n",
       "  'player_pokemon': {},\n",
       "  'time_played': 400.0}}"
      ]
     },
     "execution_count": 12,
     "metadata": {},
     "output_type": "execute_result"
    }
   ],
   "source": [
    "# Insert player_2 in players dictionary\n",
    "\n",
    "add_player(2,'kenneth',400.0,{},['alcatraz','pacific_beach'])"
   ]
  },
  {
   "cell_type": "code",
   "execution_count": 13,
   "metadata": {},
   "outputs": [
    {
     "name": "stdout",
     "output_type": "stream",
     "text": [
      "{1: {'gyms_visited': ['twitter.com', 'linkedin.com'],\n",
      "     'player_id': 1,\n",
      "     'player_name': 'joannas',\n",
      "     'player_pokemon': {},\n",
      "     'time_played': 200.0},\n",
      " 2: {'gyms_visited': [],\n",
      "     'player_id': 2,\n",
      "     'player_name': 'kenneth',\n",
      "     'player_pokemon': {},\n",
      "     'time_played': 400.0}}\n"
     ]
    }
   ],
   "source": [
    "# Print players\n",
    "\n",
    "pprint (players)"
   ]
  },
  {
   "cell_type": "markdown",
   "metadata": {},
   "source": [
    "#### ['alcatraz','pacific_beach'] does not exist in gym_locate, hence not added into players dictionary for player 2."
   ]
  },
  {
   "cell_type": "markdown",
   "metadata": {},
   "source": [
    "<img src=\"http://imgur.com/l5NasQj.png\" style=\"float: left; margin: 25px 15px 0px 0px; height: 25px\">\n",
    "\n",
    "## 5. Add captured pokemon for each player\n",
    "\n",
    "---\n",
    "\n",
    "The `'player_pokemon'` keyed dictionaries for each player keep track of which of the pokemon each player has.\n",
    "\n",
    "The keys of the `'player_pokemon'` dictionaries are the pokemon ids that correspond to the ids in the `pokedex` dictionary you created earlier. The values are integers specifying the stats for the pokemon.\n",
    "\n",
    "Give player 1 a squirtle. Give player 2 charmander and a bulbasaur.\n",
    "\n",
    "Print the players dictionary after adding the pokemon for each player.\n"
   ]
  },
  {
   "cell_type": "markdown",
   "metadata": {},
   "source": [
    "<img src=\"https://i.imgur.com/DB3I7k3.png?1\" style=\"float: left; margin: 15px 15px 0px 0px;\">\n",
    "## Solution\n",
    "\n",
    "\n",
    "---\n",
    "\n",
    "### Assumption\n",
    "Player is unable to catch the same pokemon more than once."
   ]
  },
  {
   "cell_type": "code",
   "execution_count": 14,
   "metadata": {},
   "outputs": [],
   "source": [
    "def add_pokemon(player_id,pokedex_dict,pokemon_list):\n",
    "    \n",
    "    \"\"\"This function allows user to add pokemon into the players dictionary easily with pokedex dict and a list of pokemon_id\"\"\"\n",
    "    \n",
    "    if type(pokemon_list) == list:\n",
    "    \n",
    "        p_dict_pokemon = {}\n",
    "        \n",
    "        # Check if pokemon_id exist in the pokedex\n",
    "        \n",
    "        for pokemon_id in pokemon_list:\n",
    "            \n",
    "            if pokemon_id not in pokedex_dict.keys():\n",
    "                print 'pokemon_id does not exist'\n",
    "\n",
    "            else:\n",
    "                p_dict_pokemon[pokemon_id] = pokedex_dict[pokemon_id]\n",
    "    \n",
    "    # Error message if input is not a list\n",
    "    \n",
    "    else:\n",
    "        print 'please input pokemon_id in a list. pokemon_id must be an integer.'\n",
    "\n",
    "    players[player_id]['player_pokemon'] = p_dict_pokemon\n",
    "    \n",
    "    return players"
   ]
  },
  {
   "cell_type": "code",
   "execution_count": 15,
   "metadata": {},
   "outputs": [
    {
     "data": {
      "text/plain": [
       "{1: {'gyms_visited': ['twitter.com', 'linkedin.com'],\n",
       "  'player_id': 1,\n",
       "  'player_name': 'joannas',\n",
       "  'player_pokemon': {2: {'attack': 48,\n",
       "    'defense': 65,\n",
       "    'hp': 44,\n",
       "    'name': 'squirtle',\n",
       "    'pokemon_id': 2,\n",
       "    'special_attack': 50,\n",
       "    'special_defense': 64,\n",
       "    'speed': 43,\n",
       "    'type': 'water'}},\n",
       "  'time_played': 200.0},\n",
       " 2: {'gyms_visited': [],\n",
       "  'player_id': 2,\n",
       "  'player_name': 'kenneth',\n",
       "  'player_pokemon': {1: {'attack': 52,\n",
       "    'defense': 43,\n",
       "    'hp': 39,\n",
       "    'name': 'charmander',\n",
       "    'pokemon_id': 1,\n",
       "    'special_attack': 60,\n",
       "    'special_defense': 50,\n",
       "    'speed': 65,\n",
       "    'type': 'fire'},\n",
       "   3: {'attack': 49,\n",
       "    'defense': 49,\n",
       "    'hp': 45,\n",
       "    'name': 'bulbasaur',\n",
       "    'pokemon_id': 3,\n",
       "    'special_attack': 65,\n",
       "    'special_defense': 65,\n",
       "    'speed': 45,\n",
       "    'type': 'poison'}},\n",
       "  'time_played': 400.0}}"
      ]
     },
     "execution_count": 15,
     "metadata": {},
     "output_type": "execute_result"
    }
   ],
   "source": [
    "add_pokemon(1,pokedex,[2])\n",
    "add_pokemon(2,pokedex,[1,3])"
   ]
  },
  {
   "cell_type": "code",
   "execution_count": 16,
   "metadata": {},
   "outputs": [
    {
     "name": "stdout",
     "output_type": "stream",
     "text": [
      "{1: {'gyms_visited': ['twitter.com', 'linkedin.com'],\n",
      "     'player_id': 1,\n",
      "     'player_name': 'joannas',\n",
      "     'player_pokemon': {2: {'attack': 48,\n",
      "                            'defense': 65,\n",
      "                            'hp': 44,\n",
      "                            'name': 'squirtle',\n",
      "                            'pokemon_id': 2,\n",
      "                            'special_attack': 50,\n",
      "                            'special_defense': 64,\n",
      "                            'speed': 43,\n",
      "                            'type': 'water'}},\n",
      "     'time_played': 200.0},\n",
      " 2: {'gyms_visited': [],\n",
      "     'player_id': 2,\n",
      "     'player_name': 'kenneth',\n",
      "     'player_pokemon': {1: {'attack': 52,\n",
      "                            'defense': 43,\n",
      "                            'hp': 39,\n",
      "                            'name': 'charmander',\n",
      "                            'pokemon_id': 1,\n",
      "                            'special_attack': 60,\n",
      "                            'special_defense': 50,\n",
      "                            'speed': 65,\n",
      "                            'type': 'fire'},\n",
      "                        3: {'attack': 49,\n",
      "                            'defense': 49,\n",
      "                            'hp': 45,\n",
      "                            'name': 'bulbasaur',\n",
      "                            'pokemon_id': 3,\n",
      "                            'special_attack': 65,\n",
      "                            'special_defense': 65,\n",
      "                            'speed': 45,\n",
      "                            'type': 'poison'}},\n",
      "     'time_played': 400.0}}\n"
     ]
    }
   ],
   "source": [
    "pprint (players)"
   ]
  },
  {
   "cell_type": "markdown",
   "metadata": {},
   "source": [
    "\n",
    "\n",
    "## 6. What gyms have players visited?\n",
    "\n",
    "---\n",
    "<img src=\"http://imgur.com/l5NasQj.png\" style=\"float: left; margin: 25px 15px 0px 0px; height: 25px\">\n",
    "### 6.1\n",
    "\n",
    "Write a for-loop that:\n",
    "\n",
    "1. Iterates through the `pokemon_gyms` list of gym locations you defined before.\n",
    "2. For each gym, iterate through each player in the `players` dictionary with a second, internal for-loop.\n",
    "3. If the player has visited the gym, print out \"[player] has visited [gym location].\", filling in [player] and [gym location] with the current player's name and current gym location."
   ]
  },
  {
   "cell_type": "markdown",
   "metadata": {},
   "source": [
    "<img src=\"https://i.imgur.com/DB3I7k3.png?1\" style=\"float: left; margin: 15px 15px 0px 0px;\">\n",
    "## Solution\n",
    "\n",
    "\n",
    "---\n"
   ]
  },
  {
   "cell_type": "code",
   "execution_count": 17,
   "metadata": {},
   "outputs": [
    {
     "name": "stdout",
     "output_type": "stream",
     "text": [
      "joannas has visited twitter.com.\n",
      "joannas has visited linkedin.com.\n"
     ]
    }
   ],
   "source": [
    "# Iterates thorugh each gym\n",
    "for gym in gym_locate:\n",
    "    \n",
    "    # Iterates through each player\n",
    "    for player in players.items():\n",
    "        \n",
    "        # Check if player visited the gym\n",
    "        if gym in player[1]['gyms_visited']:\n",
    "            \n",
    "            print player[1]['player_name'] + \" has visited \" + gym +\".\""
   ]
  },
  {
   "cell_type": "markdown",
   "metadata": {},
   "source": [
    "<img src=\"http://imgur.com/xDpSobf.png\" style=\"float: left; margin: 25px 15px 0px 0px; height: 25px\">\n",
    "### 6.2\n",
    "\n",
    "How many times did that loop run? If you have N gyms and also N players, how many times would it run as a function of N?\n",
    "\n",
    "Can you think of a more efficient way to accomplish the same thing? \n",
    "\n",
    "(You can write your answer as Markdown text.)"
   ]
  },
  {
   "cell_type": "markdown",
   "metadata": {},
   "source": [
    "<img src=\"https://i.imgur.com/DB3I7k3.png?1\" style=\"float: left; margin: 15px 15px 0px 0px;\">\n",
    "## Solution\n",
    "\n",
    "\n",
    "---\n"
   ]
  },
  {
   "cell_type": "code",
   "execution_count": 18,
   "metadata": {},
   "outputs": [
    {
     "name": "stdout",
     "output_type": "stream",
     "text": [
      "10 gym locations\n",
      "2 players\n"
     ]
    }
   ],
   "source": [
    "# Number of items in gym_locate\n",
    "\n",
    "gym_count = len(gym_locate)\n",
    "print str(gym_count)+' gym locations'\n",
    "\n",
    "# Number of players\n",
    "\n",
    "player_count = len(players.keys())\n",
    "print str(player_count) + ' players'"
   ]
  },
  {
   "cell_type": "markdown",
   "metadata": {},
   "source": [
    "#### The code ran for 20 times. (10 x 2)\n",
    "#### If I have N gyms and N players, the loop will run N multiply N times. \n",
    "#### A list comprehension will be a more efficient method."
   ]
  },
  {
   "cell_type": "code",
   "execution_count": 19,
   "metadata": {},
   "outputs": [
    {
     "name": "stdout",
     "output_type": "stream",
     "text": [
      "['joannas has visited twitter.com.', 'joannas has visited linkedin.com.']\n"
     ]
    }
   ],
   "source": [
    "# List comprehension\n",
    "\n",
    "print_msg = [ (str(player[1]['player_name']) + \" has visited \" + gym +\".\")  for gym in gym_locate for player in players.items() if gym in player[1]['gyms_visited']]\n",
    "print print_msg\n"
   ]
  },
  {
   "cell_type": "markdown",
   "metadata": {},
   "source": [
    "<img src=\"http://imgur.com/l5NasQj.png\" style=\"float: left; margin: 25px 15px 0px 0px; height: 25px\">\n",
    "\n",
    "## 7. Calculate player \"power\".\n",
    "\n",
    "---\n",
    "\n",
    "Define a function that will calculate a player's \"power\". Player power is defined as the sum of the base statistics all of their pokemon.\n",
    "\n",
    "Your function will:\n",
    "\n",
    "1. Accept the `players` dictionary, `pokedex` dictionary, and a player_id as arguments.\n",
    "2. For the specified player_id, look up that player's pokemon and their level(s).\n",
    "3. Find and aggregate the attack and defense values for each of the player's pokemon from the `pokedex` dictionary.\n",
    "4. Print \"[player name]'s power is [player power].\", where the player power is the sum of the base statistics for all of their pokemon.\n",
    "5. Return the player's power value.\n",
    "\n",
    "Print out the pokemon power for each of your players."
   ]
  },
  {
   "cell_type": "markdown",
   "metadata": {},
   "source": [
    "<img src=\"https://i.imgur.com/DB3I7k3.png?1\" style=\"float: left; margin: 15px 15px 0px 0px;\">\n",
    "## Solution\n",
    "\n",
    "\n",
    "---\n"
   ]
  },
  {
   "cell_type": "code",
   "execution_count": 20,
   "metadata": {
    "collapsed": true
   },
   "outputs": [],
   "source": [
    "def player_power(a_players,a_pokedex,a_player_id):\n",
    "    \n",
    "    # Define player's dictionary of pokemon\n",
    "    pokemon_dict = a_players[a_player_id]['player_pokemon']\n",
    "    \n",
    "    # Define list of pokemon id in the player's pokemon dictionary\n",
    "    list_pokemonID = pokemon_dict.keys()\n",
    "    \n",
    "    # List of power values (each player)\n",
    "    list_powervalue = []\n",
    "    \n",
    "    for pokemonID in list_pokemonID:\n",
    "        \n",
    "        # Identify the base stats from pokedex\n",
    "        att_pokemonID = a_pokedex[pokemonID]['attack']\n",
    "        def_pokemonID = a_pokedex[pokemonID]['defense']\n",
    "        \n",
    "        list_powervalue.append(att_pokemonID)\n",
    "        list_powervalue.append(def_pokemonID)\n",
    "    \n",
    "    \n",
    "    print str(a_players[a_player_id]['player_name'])+\"'s power is \"+str(sum(list_powervalue))+\".\"\n",
    "    return sum(list_powervalue)"
   ]
  },
  {
   "cell_type": "code",
   "execution_count": 25,
   "metadata": {},
   "outputs": [
    {
     "name": "stdout",
     "output_type": "stream",
     "text": [
      "joannas's power is 113.\n",
      "113\n"
     ]
    }
   ],
   "source": [
    "# Print pokemon power for player 1\n",
    "\n",
    "print player_power(players,pokedex,1)"
   ]
  },
  {
   "cell_type": "code",
   "execution_count": 24,
   "metadata": {},
   "outputs": [
    {
     "name": "stdout",
     "output_type": "stream",
     "text": [
      "kenneth's power is 193.\n",
      "193\n"
     ]
    }
   ],
   "source": [
    "# Print pokemon power for player 2\n",
    "\n",
    "print player_power(players,pokedex,2)"
   ]
  },
  {
   "cell_type": "markdown",
   "metadata": {
    "collapsed": true
   },
   "source": [
    "<img src=\"http://imgur.com/l5NasQj.png\" style=\"float: left; margin: 25px 15px 0px 0px; height: 25px\">\n",
    "\n",
    "## 8. Load a pokedex file containing all the pokemon\n",
    "\n",
    "---\n",
    "\n",
    "### 8.1\n",
    "\n",
    "While you were putting together the prototype code, your colleagues were preparing a dataset of Pokemon and their attributes. (This was a rush job, so they may have picked some crazy values for some...)\n",
    "\n",
    "The code below loads information from a comma separated value (csv) file. You need to parse this string into a more useable format. The format of the string is:\n",
    "\n",
    "- Rows are separated by newline characters: \\n\n",
    "- Columns are separated by commas: ,\n",
    "- All cells in the csv are double quoted. Ex: \"PokedexNumber\" is the first cell of the first row.\n",
    "\n",
    "\n",
    "Using for-loops, create a list of lists where each list within the overall list is a row of the csv/matrix, and each element in that list is a cell in that row. Additional criteria:\n",
    "\n",
    "1. Quotes are removed from each cell item.\n",
    "2. Numeric column values are converted to floats.\n",
    "3. There are some cells that are empty and have no information. For these cells put a -1 value in place.\n",
    "\n",
    "Your end result is effectively a matrix. Each list in the outer list is a row, and the *j*th elements of list together form the *j*th column, which represents a data attribute. The first three lists in your pokedex list should look like this:\n",
    "\n",
    "    ['PokedexNumber', 'Name', 'Type', 'Total', 'HP', 'Attack', 'Defense', 'SpecialAttack', 'SpecialDefense', 'Speed']\n",
    "    [1.0, 'Bulbasaur', 'GrassPoison', 318.0, 45.0, 49.0, 49.0, 65.0, 65.0, 45.0]\n",
    "    [2.0, 'Ivysaur', 'GrassPoison', 405.0, 60.0, 62.0, 63.0, 80.0, 80.0, 60.0]"
   ]
  },
  {
   "cell_type": "markdown",
   "metadata": {},
   "source": [
    "<img src=\"https://i.imgur.com/DB3I7k3.png?1\" style=\"float: left; margin: 15px 15px 0px 0px;\">\n",
    "## Solution\n",
    "\n",
    "\n",
    "---\n",
    "\n",
    "### Step by step\n",
    "1. Split the raw file by character \\n\n",
    "2. Split the string by ',' into rows of lists\n",
    "3. Iterate through each value - remove double quotation in each value\n",
    "4. Iterate through each value - convert to float if numeric\n",
    "5. Check for empty cells\n",
    "6. Replace empty cells with -1"
   ]
  },
  {
   "cell_type": "code",
   "execution_count": 26,
   "metadata": {},
   "outputs": [],
   "source": [
    "# Code to read in pokedex info\n",
    "\n",
    "raw_pd = ''\n",
    "pokedex_file = 'pokedex_basic.csv'\n",
    "with open(pokedex_file, 'r') as f:\n",
    "    raw_pd = f.read().split('\\n')\n",
    "    \n",
    "# the pokedex string is assigned to the raw_pd variable\n",
    "\n",
    "# Split string by ',' into rows of lists\n",
    "\n",
    "data_split = []\n",
    "\n",
    "for row1 in raw_pd:\n",
    "    data_split.append(row1.split(','))\n",
    "    \n",
    "\n",
    "# Remove double quotations in each value\n",
    "\n",
    "q_data_split = []\n",
    "\n",
    "for row2 in data_split:\n",
    "    \n",
    "    q_data_splitR = []\n",
    "    \n",
    "    for val in row2:\n",
    "        q_data_splitR.append(val.replace('\"',''))\n",
    "        \n",
    "    q_data_split.append(q_data_splitR)\n"
   ]
  },
  {
   "cell_type": "code",
   "execution_count": 27,
   "metadata": {},
   "outputs": [
    {
     "name": "stdout",
     "output_type": "stream",
     "text": [
      "[['PokedexNumber', 'Name', 'Type', 'Total', 'HP', 'Attack', 'Defense', 'SpecialAttack', 'SpecialDefense', 'Speed'], [1.0, 'Bulbasaur', 'GrassPoison', 318.0, 45.0, 49.0, 49.0, 65.0, 65.0, 45.0], [2.0, 'Ivysaur', 'GrassPoison', 405.0, 60.0, 62.0, 63.0, 80.0, 80.0, 60.0], [3.0, 'Venusaur', 'GrassPoison', 525.0, 80.0, 82.0, 83.0, 100.0, 100.0, 80.0]]\n"
     ]
    }
   ],
   "source": [
    "# Convert numeric data to floats\n",
    "\n",
    "import re\n",
    "\n",
    "alm_clean = []\n",
    "for row3 in q_data_split:\n",
    "    \n",
    "    nf_l_data_split = []\n",
    "    for val3 in row3:\n",
    "        \n",
    "        # If val3 is numeric\n",
    "        \n",
    "        if  re.match(\"[+-]?(?:\\d+(?:\\.\\d+)?|\\.\\d+)$\", val3):\n",
    "            nf_l_data_split.append(float(val3))\n",
    "        \n",
    "        else:\n",
    "            nf_l_data_split.append(val3)\n",
    "    \n",
    "    alm_clean.append(nf_l_data_split)\n",
    "    \n",
    "print alm_clean[:4]"
   ]
  },
  {
   "cell_type": "code",
   "execution_count": 29,
   "metadata": {},
   "outputs": [
    {
     "name": "stdout",
     "output_type": "stream",
     "text": [
      "set([10])\n"
     ]
    }
   ],
   "source": [
    "# Check the number of values in each row\n",
    "\n",
    "check = []\n",
    "\n",
    "for x in alm_clean:\n",
    "    check.append(len(x))\n",
    "\n",
    "print set(check)"
   ]
  },
  {
   "cell_type": "code",
   "execution_count": 33,
   "metadata": {},
   "outputs": [
    {
     "name": "stdout",
     "output_type": "stream",
     "text": [
      "[['PokedexNumber', 'Name', 'Type', 'Total', 'HP', 'Attack', 'Defense', 'SpecialAttack', 'SpecialDefense', 'Speed'], [1.0, 'Bulbasaur', 'GrassPoison', 318.0, 45.0, 49.0, 49.0, 65.0, 65.0, 45.0], [2.0, 'Ivysaur', 'GrassPoison', 405.0, 60.0, 62.0, 63.0, 80.0, 80.0, 60.0], [3.0, 'Venusaur', 'GrassPoison', 525.0, 80.0, 82.0, 83.0, 100.0, 100.0, 80.0]]\n"
     ]
    }
   ],
   "source": [
    "# Replace empty cells with -1\n",
    "\n",
    "clean = []\n",
    "\n",
    "for row4 in alm_clean:\n",
    "    \n",
    "    alm_clean_r = []\n",
    "    \n",
    "    for val4 in range(10):\n",
    "        \n",
    "        if row4[val4] == \"\":\n",
    "            alm_clean_r.append(-1)\n",
    "            \n",
    "        else:\n",
    "            alm_clean_r.append(row4[val4])\n",
    "            \n",
    "    clean.append(alm_clean_r)\n",
    "\n",
    "# Check\n",
    "print clean[:4]"
   ]
  },
  {
   "cell_type": "markdown",
   "metadata": {},
   "source": [
    "<img src=\"http://imgur.com/xDpSobf.png\" style=\"float: left; margin: 25px 15px 0px 0px; height: 25px\">\n",
    "\n",
    "### 8.2 Parse the raw pokedex with list comprehensions\n",
    "\n",
    "---\n",
    "\n",
    "Perform the same parsing as above, but **using only a single list comprehension** instead of for loops. You may have nested list comprehensions within the main list comprehension! The output should be exactly the same."
   ]
  },
  {
   "cell_type": "markdown",
   "metadata": {},
   "source": [
    "<img src=\"https://i.imgur.com/DB3I7k3.png?1\" style=\"float: left; margin: 15px 15px 0px 0px;\">\n",
    "## Solution\n",
    "\n",
    "\n",
    "---\n"
   ]
  },
  {
   "cell_type": "code",
   "execution_count": 34,
   "metadata": {},
   "outputs": [
    {
     "name": "stdout",
     "output_type": "stream",
     "text": [
      "[['PokedexNumber', 'Name', 'Type', 'Total', 'HP', 'Attack', 'Defense', 'SpecialAttack', 'SpecialDefense', 'Speed'], [1.0, 'Bulbasaur', 'GrassPoison', 318.0, 45.0, 49.0, 49.0, 65.0, 65.0, 45.0], [2.0, 'Ivysaur', 'GrassPoison', 405.0, 60.0, 62.0, 63.0, 80.0, 80.0, 60.0], [3.0, 'Venusaur', 'GrassPoison', 525.0, 80.0, 82.0, 83.0, 100.0, 100.0, 80.0]]\n"
     ]
    }
   ],
   "source": [
    "# If there are no empty cells in data\n",
    "\n",
    "raw_pd = ''\n",
    "pokedex_file = 'pokedex_basic.csv'\n",
    "with open(pokedex_file, 'r') as f:\n",
    "    raw_pd = f.read().split('\\n')\n",
    "    \n",
    "\n",
    "import re\n",
    "alm_clean = [[float(val.replace('\"','')) if re.match(\"[+-]?(?:\\d+(?:\\.\\d+)?|\\.\\d+)$\", val.replace('\"','')) else val.replace('\"','') for val in row2] for row2 in [row1.split(',') for row1 in raw_pd]]\n",
    "\n",
    "# Check\n",
    "print alm_clean[:4]"
   ]
  },
  {
   "cell_type": "code",
   "execution_count": 35,
   "metadata": {},
   "outputs": [
    {
     "name": "stdout",
     "output_type": "stream",
     "text": [
      "[['PokedexNumber', 'Name', 'Type', 'Total', 'HP', 'Attack', 'Defense', 'SpecialAttack', 'SpecialDefense', 'Speed'], [1.0, 'Bulbasaur', 'GrassPoison', 318.0, 45.0, 49.0, 49.0, 65.0, 65.0, 45.0], [2.0, 'Ivysaur', 'GrassPoison', 405.0, 60.0, 62.0, 63.0, 80.0, 80.0, 60.0], [3.0, 'Venusaur', 'GrassPoison', 525.0, 80.0, 82.0, 83.0, 100.0, 100.0, 80.0]]\n"
     ]
    }
   ],
   "source": [
    "# If there are empty cells in data\n",
    "\n",
    "raw_pd = ''\n",
    "pokedex_file = 'pokedex_basic.csv'\n",
    "with open(pokedex_file, 'r') as f:\n",
    "    raw_pd = f.read().split('\\n')\n",
    "    \n",
    "import re\n",
    "clean = [[-1 if row4[val4] == \"\" else row4[val4] for val4 in range(10)]for row4 in [[float(val.replace('\"','')) if re.match(\"[+-]?(?:\\d+(?:\\.\\d+)?|\\.\\d+)$\", val.replace('\"','')) else val.replace('\"','') for val in row2] for row2 in [row1.split(',') for row1 in raw_pd]]]\n",
    "\n",
    "# Check\n",
    "print clean[:4]"
   ]
  },
  {
   "cell_type": "markdown",
   "metadata": {},
   "source": [
    "<img src=\"http://imgur.com/l5NasQj.png\" style=\"float: left; margin: 25px 15px 0px 0px; height: 25px\">\n",
    "\n",
    "## 9. Write a function to generate the full pokedex\n",
    "\n",
    "---\n",
    "\n",
    "Write a function that recreates the pokedex you made before, but with the data read in from the full pokemon file. The `PokedexNumber` should be used as the `pokemon_id` key values for the dictionary of pokemon.\n",
    "\n",
    "Your function should:\n",
    "\n",
    "1. Take the parsed pokedex information you created above as an argument.\n",
    "2. Return a dictionary in the same format as your original pokedex you created before containing the information from the parsed full pokedex file.\n",
    "\n",
    "To test the function, print out the pokemon with id = 100."
   ]
  },
  {
   "cell_type": "markdown",
   "metadata": {},
   "source": [
    "<img src=\"https://i.imgur.com/DB3I7k3.png?1\" style=\"float: left; margin: 15px 15px 0px 0px;\">\n",
    "## Solution\n",
    "\n",
    "\n",
    "---\n"
   ]
  },
  {
   "cell_type": "code",
   "execution_count": 36,
   "metadata": {
    "collapsed": true,
    "scrolled": true
   },
   "outputs": [],
   "source": [
    "def f_pokedex(data_pokedex):\n",
    "    pokedex2 = {}\n",
    "    \n",
    "    \n",
    "    # Add pokemon_id as key of pokedex2 (data_pokedex[1:] = selects data w/o header)\n",
    "    for row in data_pokedex[1:]:\n",
    "        \n",
    "        # Each Pokemon's stats\n",
    "        pokedex2_s = {}\n",
    "        \n",
    "        # Look up for each value in corresponding column header\n",
    "        for x in range(10):\n",
    "            \n",
    "            # [data_pokedex][0][x] returns xth item in the header\n",
    "            # row[x] returns xth item in corresponding row\n",
    "            \n",
    "            pokedex2_s[data_pokedex[0][x]] = row[x]\n",
    "            \n",
    "        # Add each pokemon's stats to main dictionary    \n",
    "        pokedex2[int(row[0])] = pokedex2_s\n",
    "    \n",
    "    return pokedex2"
   ]
  },
  {
   "cell_type": "code",
   "execution_count": 37,
   "metadata": {
    "scrolled": true
   },
   "outputs": [
    {
     "name": "stdout",
     "output_type": "stream",
     "text": [
      "{'Name': 'Voltorb', 'SpecialAttack': 55.0, 'HP': 40.0, 'Speed': 100.0, 'Attack': 30.0, 'Defense': 50.0, 'PokedexNumber': 100.0, 'SpecialDefense': 55.0, 'Total': 330.0, 'Type': 'Electric'}\n"
     ]
    }
   ],
   "source": [
    "# Check\n",
    "\n",
    "new_pokedex = f_pokedex(clean)\n",
    "print new_pokedex[100]"
   ]
  },
  {
   "cell_type": "markdown",
   "metadata": {},
   "source": [
    "<img src=\"http://i.imgur.com/GCAf1UX.png\" style=\"float: left; margin: 25px 15px 0px 0px; height: 25px\">\n",
    "\n",
    "## 10. Write a function to generate a \"filtered\" pokedex\n",
    "---\n",
    "Your function should:\n",
    "1. Take the parsed pokedex information you created above as an argument.\n",
    "1. Take a dictionary as a parameter with keys matching the features of the Pokedex, filtering by exact match for string type values, and/or filter continuous variables specified value that is greater than or equal to the dictionary key parameter.\n",
    "1. Return multiple elements from the Pokedex\n",
    "\n",
    "Example:\n",
    "\n",
    "```python\n",
    "\n",
    "# Only filter based on parameters passed\n",
    "filter_options = {\n",
    "    'Attack':   25,\n",
    "    'Defense':  30,\n",
    "    'Type':     'Electric'\n",
    "}\n",
    "\n",
    "# Return records with attack >= 24, defense >= 30, and type == \"Electric\"\n",
    "# Also anticipate that other paramters can also be passed such as \"SpecialAttack\", \"Speed\", etc.\n",
    "filtered_pokedex(pokedex_data, filter=filter_options)\n",
    "\n",
    "# Example output:\n",
    "# [{'Attack': 30.0,\n",
    "#  'Defense': 50.0,\n",
    "#  'HP': 40.0,\n",
    "#  'Name': 'Voltorb',\n",
    "#  'SpecialAttack': 55.0,\n",
    "#  'SpecialDefense': 55.0,\n",
    "#  'Speed': 100.0,\n",
    "#  'Total': 330.0,\n",
    "#  'Type': 'Electric'},\n",
    "#  {'Attack': 30.0,\n",
    "#  'Defense': 33.0,\n",
    "#  'HP': 32.0,\n",
    "#  'Name': 'Pikachu',\n",
    "#  'SpecialAttack': 55.0,\n",
    "#  'SpecialDefense': 55.0,\n",
    "#  'Speed': 100.0,\n",
    "#  'Total': 330.0,\n",
    "#  'Type': 'Electric'},\n",
    "#  ... etc\n",
    "#  ]\n",
    "\n",
    "```\n",
    "\n"
   ]
  },
  {
   "cell_type": "markdown",
   "metadata": {},
   "source": [
    "<img src=\"https://i.imgur.com/DB3I7k3.png?1\" style=\"float: left; margin: 15px 15px 0px 0px;\">\n",
    "## Solution\n",
    "\n",
    "\n",
    "---\n"
   ]
  },
  {
   "cell_type": "code",
   "execution_count": 43,
   "metadata": {
    "collapsed": true
   },
   "outputs": [],
   "source": [
    "def input_filter_options(attack=None,defense=None,hp=None,name=None,specialattack=None,specialdefense=None,speed=None,total=None,type_=None):\n",
    "    \n",
    "    \"\"\"This function allows user to input structured filter options.\"\"\"\n",
    "    \"\"\"Details of kwargs are as follows:\n",
    "    name and type are case in-sensitive and must be str type.\n",
    "    rest of the kwargs must be numeric.\"\"\"\n",
    "    \n",
    "    xfilter_options = {}\n",
    "    \n",
    "    ## ATTACK ##\n",
    "    \n",
    "    # Ensure that attack input is numeric\n",
    "    if type(attack) in [int,float]:\n",
    "        xfilter_options['Attack'] = attack\n",
    "    \n",
    "    # Error message in case input = numbers in numeric form e.g \"thirty\"\n",
    "    elif type(attack) == str:\n",
    "        print 'attack input must be numeric.'\n",
    "    \n",
    "    else:\n",
    "        pass\n",
    "    \n",
    "    \n",
    "    ## DEFENSE ##\n",
    "    \n",
    "    # Ensure that defense input is numeric\n",
    "    if type(defense) in[int,float]:\n",
    "        xfilter_options['Defense'] = defense\n",
    "    \n",
    "    # Error message in case input = numbers in numeric form e.g \"thirty\"\n",
    "    elif type(defense) == str:\n",
    "        print 'defense input must be numeric.'\n",
    "    \n",
    "    else:\n",
    "        pass\n",
    "    \n",
    "    \n",
    "    \n",
    "    ## HP ##\n",
    "    \n",
    "    # Ensure that hp input is numeric\n",
    "    if type(hp) in[int,float]:\n",
    "        xfilter_options['HP'] = hp\n",
    "    \n",
    "    # Error message in case input = numbers in numeric form e.g \"thirty\"\n",
    "    elif type(hp) == str:\n",
    "        print 'hp input must be numeric.'\n",
    "    \n",
    "    else:\n",
    "        pass\n",
    "    \n",
    "    \n",
    "    ## NAME ##\n",
    "    \n",
    "    if name == None:\n",
    "        pass\n",
    "    \n",
    "    else:\n",
    "        # Case-insensitive + convert into a string\n",
    "        name = str(name.lower())\n",
    "    \n",
    "        # Checks if name is in pokedex\n",
    "        pokedex_list = [x[1]['Name'].lower() for x in new_pokedex.items()]\n",
    "    \n",
    "        if name not in pokedex_list:\n",
    "            print str(name)+' does not exist in pokedex.'\n",
    "            pass\n",
    "        \n",
    "        else:\n",
    "            xfilter_options['Name'] = name\n",
    "    \n",
    "\n",
    "        \n",
    "        \n",
    "    ## SPECIAL ATTACK ##\n",
    "    \n",
    "    # Ensure that special attack input is numeric\n",
    "    if type(specialattack) in[int,float]:\n",
    "        xfilter_options['SpecialAttack'] = specialattack\n",
    "    \n",
    "    # Error message in case input = numbers in numeric form e.g \"thirty\"\n",
    "    elif type(specialattack) == str:\n",
    "        print 'special attack input must be numeric.'\n",
    "    \n",
    "    else:\n",
    "        pass\n",
    "        \n",
    "    \n",
    "    ## SPECIAL DEFENSE ##\n",
    "    \n",
    "    # Ensure that special defense input is numeric\n",
    "    if type(specialdefense) in[int,float]:\n",
    "        xfilter_options['SpecialDefense'] = specialattack\n",
    "    \n",
    "    # Error message in case input = numbers in numeric form e.g \"thirty\"\n",
    "    elif type(specialdefense) == str:\n",
    "        print 'special defense input must be numeric.'\n",
    "    \n",
    "    else:\n",
    "        pass\n",
    "        \n",
    "    \n",
    "    ## SPEED ##\n",
    "\n",
    "    # Ensure that speed input is numeric\n",
    "    if type(speed) in[int,float]:\n",
    "        xfilter_options['Speed'] = speed\n",
    "    \n",
    "    # Error message in case input = numbers in numeric form e.g \"thirty\"\n",
    "    elif type(speed) == str:\n",
    "        print 'speed input must be numeric.'\n",
    "    \n",
    "    else:\n",
    "        pass\n",
    "    \n",
    "    \n",
    "    ## TOTAL ##\n",
    "\n",
    "    # Ensure that total input is numeric\n",
    "    if type(total) in[int,float]:\n",
    "        xfilter_options['Total'] = total\n",
    "    \n",
    "    # Error message in case input = numbers in numeric form e.g \"thirty\"\n",
    "    elif type(total) == str:\n",
    "        print 'total input must be numeric.'\n",
    "    \n",
    "    else:\n",
    "        pass\n",
    "    \n",
    "    \n",
    "    ## TYPE ##\n",
    "    \n",
    "    if type_ == None:\n",
    "        pass\n",
    "    \n",
    "    else:\n",
    "        # Case-insensitive + convert into a string\n",
    "        type_ = str(type_.lower())\n",
    "\n",
    "        # Checks if name is in pokedex\n",
    "        pokedex_type = [x[1]['Type'].lower() for x in new_pokedex.items()]\n",
    "\n",
    "        if type_ not in pokedex_type:\n",
    "            print str(type_)+' type does not exist in pokedex.'\n",
    "            pass\n",
    "\n",
    "        else:\n",
    "            xfilter_options['Type'] = type_\n",
    "\n",
    "\n",
    "        \n",
    "    return xfilter_options\n",
    "    \n",
    "    "
   ]
  },
  {
   "cell_type": "code",
   "execution_count": 45,
   "metadata": {},
   "outputs": [],
   "source": [
    "# Check\n",
    "\n",
    "filter_options = input_filter_options(attack=25,type_='electric',defense=30)"
   ]
  },
  {
   "cell_type": "code",
   "execution_count": 46,
   "metadata": {},
   "outputs": [],
   "source": [
    "def filtered_pokedex(pokedex_data, filter=filter_options):\n",
    "    \n",
    "    # Consolidate all the pokemon id that matches filter options in list of list\n",
    "    criteria = []\n",
    "\n",
    "    for filtr, para in filter.items():\n",
    "\n",
    "        # Consolidate all the pokemon id that matches filter options\n",
    "        pokedex_no = []\n",
    "        \n",
    "        # Iterates through pokedex data\n",
    "        for x, y in pokedex_data.items():\n",
    "\n",
    "            # If filter option is a string\n",
    "            if type(para) == str and para == y[filtr].lower():\n",
    "                pokedex_no.append(x)\n",
    "\n",
    "\n",
    "            ## If filter option is numeric\n",
    "            if type(para) in [int,float] and para <= y[filtr]:\n",
    "                pokedex_no.append(x)\n",
    "\n",
    "        criteria.append(pokedex_no)\n",
    "    \n",
    "    # List of all pokemon id in pokedex\n",
    "    pokedex_inds = range(len(pokedex_data))\n",
    "    return_set = set(pokedex_inds)\n",
    "\n",
    "    # Convert each list into set\n",
    "    for pokeset in criteria:\n",
    "        pokesubset = set(pokeset)\n",
    "        \n",
    "        # Update return set if both sets matchess\n",
    "        return_set = return_set & pokesubset\n",
    "\n",
    "\n",
    "    filter_pokedex3 = []\n",
    "    \n",
    "    # uses index values to extract the rest of the pokedex information\n",
    "    for ind in list(return_set):\n",
    "        filter_pokedex3.append(pokedex_data[ind])\n",
    " \n",
    "    return filter_pokedex3"
   ]
  },
  {
   "cell_type": "code",
   "execution_count": 48,
   "metadata": {},
   "outputs": [
    {
     "data": {
      "text/plain": [
       "[{'Attack': 65.0,\n",
       "  'Defense': 60.0,\n",
       "  'HP': 65.0,\n",
       "  'Name': 'Jolteon',\n",
       "  'PokedexNumber': 135.0,\n",
       "  'SpecialAttack': 110.0,\n",
       "  'SpecialDefense': 95.0,\n",
       "  'Speed': 130.0,\n",
       "  'Total': 525.0,\n",
       "  'Type': 'Electric'},\n",
       " {'Attack': 60.0,\n",
       "  'Defense': 32.0,\n",
       "  'HP': 45.0,\n",
       "  'Name': 'Blitzle',\n",
       "  'PokedexNumber': 522.0,\n",
       "  'SpecialAttack': 50.0,\n",
       "  'SpecialDefense': 32.0,\n",
       "  'Speed': 76.0,\n",
       "  'Total': 295.0,\n",
       "  'Type': 'Electric'},\n",
       " {'Attack': 100.0,\n",
       "  'Defense': 63.0,\n",
       "  'HP': 75.0,\n",
       "  'Name': 'Zebstrika',\n",
       "  'PokedexNumber': 523.0,\n",
       "  'SpecialAttack': 80.0,\n",
       "  'SpecialDefense': 63.0,\n",
       "  'Speed': 116.0,\n",
       "  'Total': 497.0,\n",
       "  'Type': 'Electric'},\n",
       " {'Attack': 65.0,\n",
       "  'Defense': 34.0,\n",
       "  'HP': 45.0,\n",
       "  'Name': 'Shinx',\n",
       "  'PokedexNumber': 403.0,\n",
       "  'SpecialAttack': 40.0,\n",
       "  'SpecialDefense': 34.0,\n",
       "  'Speed': 45.0,\n",
       "  'Total': 263.0,\n",
       "  'Type': 'Electric'},\n",
       " {'Attack': 85.0,\n",
       "  'Defense': 49.0,\n",
       "  'HP': 60.0,\n",
       "  'Name': 'Luxio',\n",
       "  'PokedexNumber': 404.0,\n",
       "  'SpecialAttack': 60.0,\n",
       "  'SpecialDefense': 49.0,\n",
       "  'Speed': 60.0,\n",
       "  'Total': 363.0,\n",
       "  'Type': 'Electric'},\n",
       " {'Attack': 120.0,\n",
       "  'Defense': 79.0,\n",
       "  'HP': 80.0,\n",
       "  'Name': 'Luxray',\n",
       "  'PokedexNumber': 405.0,\n",
       "  'SpecialAttack': 95.0,\n",
       "  'SpecialDefense': 79.0,\n",
       "  'Speed': 70.0,\n",
       "  'Total': 523.0,\n",
       "  'Type': 'Electric'},\n",
       " {'Attack': 55.0,\n",
       "  'Defense': 40.0,\n",
       "  'HP': 35.0,\n",
       "  'Name': 'Pikachu',\n",
       "  'PokedexNumber': 25.0,\n",
       "  'SpecialAttack': 50.0,\n",
       "  'SpecialDefense': 50.0,\n",
       "  'Speed': 90.0,\n",
       "  'Total': 320.0,\n",
       "  'Type': 'Electric'},\n",
       " {'Attack': 90.0,\n",
       "  'Defense': 55.0,\n",
       "  'HP': 60.0,\n",
       "  'Name': 'Raichu',\n",
       "  'PokedexNumber': 26.0,\n",
       "  'SpecialAttack': 90.0,\n",
       "  'SpecialDefense': 80.0,\n",
       "  'Speed': 110.0,\n",
       "  'Total': 485.0,\n",
       "  'Type': 'Electric'},\n",
       " {'Attack': 45.0,\n",
       "  'Defense': 70.0,\n",
       "  'HP': 60.0,\n",
       "  'Name': 'Pachirisu',\n",
       "  'PokedexNumber': 417.0,\n",
       "  'SpecialAttack': 45.0,\n",
       "  'SpecialDefense': 90.0,\n",
       "  'Speed': 95.0,\n",
       "  'Total': 405.0,\n",
       "  'Type': 'Electric'},\n",
       " {'Attack': 40.0,\n",
       "  'Defense': 40.0,\n",
       "  'HP': 55.0,\n",
       "  'Name': 'Mareep',\n",
       "  'PokedexNumber': 179.0,\n",
       "  'SpecialAttack': 65.0,\n",
       "  'SpecialDefense': 45.0,\n",
       "  'Speed': 35.0,\n",
       "  'Total': 280.0,\n",
       "  'Type': 'Electric'},\n",
       " {'Attack': 55.0,\n",
       "  'Defense': 55.0,\n",
       "  'HP': 70.0,\n",
       "  'Name': 'Flaaffy',\n",
       "  'PokedexNumber': 180.0,\n",
       "  'SpecialAttack': 80.0,\n",
       "  'SpecialDefense': 60.0,\n",
       "  'Speed': 45.0,\n",
       "  'Total': 365.0,\n",
       "  'Type': 'Electric'},\n",
       " {'Attack': 45.0,\n",
       "  'Defense': 40.0,\n",
       "  'HP': 40.0,\n",
       "  'Name': 'Electrike',\n",
       "  'PokedexNumber': 309.0,\n",
       "  'SpecialAttack': 65.0,\n",
       "  'SpecialDefense': 40.0,\n",
       "  'Speed': 65.0,\n",
       "  'Total': 295.0,\n",
       "  'Type': 'Electric'},\n",
       " {'Attack': 75.0,\n",
       "  'Defense': 80.0,\n",
       "  'HP': 70.0,\n",
       "  'Name': 'ManectricMega Manectric',\n",
       "  'PokedexNumber': 310.0,\n",
       "  'SpecialAttack': 135.0,\n",
       "  'SpecialDefense': 80.0,\n",
       "  'Speed': 135.0,\n",
       "  'Total': 575.0,\n",
       "  'Type': 'Electric'},\n",
       " {'Attack': 50.0,\n",
       "  'Defense': 40.0,\n",
       "  'HP': 60.0,\n",
       "  'Name': 'Plusle',\n",
       "  'PokedexNumber': 311.0,\n",
       "  'SpecialAttack': 85.0,\n",
       "  'SpecialDefense': 75.0,\n",
       "  'Speed': 95.0,\n",
       "  'Total': 405.0,\n",
       "  'Type': 'Electric'},\n",
       " {'Attack': 40.0,\n",
       "  'Defense': 50.0,\n",
       "  'HP': 60.0,\n",
       "  'Name': 'Minun',\n",
       "  'PokedexNumber': 312.0,\n",
       "  'SpecialAttack': 75.0,\n",
       "  'SpecialDefense': 85.0,\n",
       "  'Speed': 95.0,\n",
       "  'Total': 405.0,\n",
       "  'Type': 'Electric'},\n",
       " {'Attack': 123.0,\n",
       "  'Defense': 67.0,\n",
       "  'HP': 75.0,\n",
       "  'Name': 'Electivire',\n",
       "  'PokedexNumber': 466.0,\n",
       "  'SpecialAttack': 95.0,\n",
       "  'SpecialDefense': 85.0,\n",
       "  'Speed': 95.0,\n",
       "  'Total': 540.0,\n",
       "  'Type': 'Electric'},\n",
       " {'Attack': 55.0,\n",
       "  'Defense': 40.0,\n",
       "  'HP': 35.0,\n",
       "  'Name': 'Tynamo',\n",
       "  'PokedexNumber': 602.0,\n",
       "  'SpecialAttack': 45.0,\n",
       "  'SpecialDefense': 40.0,\n",
       "  'Speed': 60.0,\n",
       "  'Total': 275.0,\n",
       "  'Type': 'Electric'},\n",
       " {'Attack': 85.0,\n",
       "  'Defense': 70.0,\n",
       "  'HP': 65.0,\n",
       "  'Name': 'Eelektrik',\n",
       "  'PokedexNumber': 603.0,\n",
       "  'SpecialAttack': 75.0,\n",
       "  'SpecialDefense': 70.0,\n",
       "  'Speed': 40.0,\n",
       "  'Total': 405.0,\n",
       "  'Type': 'Electric'},\n",
       " {'Attack': 115.0,\n",
       "  'Defense': 80.0,\n",
       "  'HP': 85.0,\n",
       "  'Name': 'Eelektross',\n",
       "  'PokedexNumber': 604.0,\n",
       "  'SpecialAttack': 105.0,\n",
       "  'SpecialDefense': 80.0,\n",
       "  'Speed': 50.0,\n",
       "  'Total': 515.0,\n",
       "  'Type': 'Electric'},\n",
       " {'Attack': 30.0,\n",
       "  'Defense': 50.0,\n",
       "  'HP': 40.0,\n",
       "  'Name': 'Voltorb',\n",
       "  'PokedexNumber': 100.0,\n",
       "  'SpecialAttack': 55.0,\n",
       "  'SpecialDefense': 55.0,\n",
       "  'Speed': 100.0,\n",
       "  'Total': 330.0,\n",
       "  'Type': 'Electric'},\n",
       " {'Attack': 50.0,\n",
       "  'Defense': 70.0,\n",
       "  'HP': 60.0,\n",
       "  'Name': 'Electrode',\n",
       "  'PokedexNumber': 101.0,\n",
       "  'SpecialAttack': 80.0,\n",
       "  'SpecialDefense': 80.0,\n",
       "  'Speed': 140.0,\n",
       "  'Total': 480.0,\n",
       "  'Type': 'Electric'},\n",
       " {'Attack': 63.0,\n",
       "  'Defense': 37.0,\n",
       "  'HP': 45.0,\n",
       "  'Name': 'Elekid',\n",
       "  'PokedexNumber': 239.0,\n",
       "  'SpecialAttack': 65.0,\n",
       "  'SpecialDefense': 55.0,\n",
       "  'Speed': 95.0,\n",
       "  'Total': 360.0,\n",
       "  'Type': 'Electric'},\n",
       " {'Attack': 85.0,\n",
       "  'Defense': 75.0,\n",
       "  'HP': 90.0,\n",
       "  'Name': 'Raikou',\n",
       "  'PokedexNumber': 243.0,\n",
       "  'SpecialAttack': 115.0,\n",
       "  'SpecialDefense': 100.0,\n",
       "  'Speed': 115.0,\n",
       "  'Total': 580.0,\n",
       "  'Type': 'Electric'},\n",
       " {'Attack': 83.0,\n",
       "  'Defense': 57.0,\n",
       "  'HP': 65.0,\n",
       "  'Name': 'Electabuzz',\n",
       "  'PokedexNumber': 125.0,\n",
       "  'SpecialAttack': 95.0,\n",
       "  'SpecialDefense': 85.0,\n",
       "  'Speed': 105.0,\n",
       "  'Total': 490.0,\n",
       "  'Type': 'Electric'}]"
      ]
     },
     "execution_count": 48,
     "metadata": {},
     "output_type": "execute_result"
    }
   ],
   "source": [
    "# Check\n",
    "\n",
    "filtered_pokedex(new_pokedex, filter=filter_options)"
   ]
  },
  {
   "cell_type": "markdown",
   "metadata": {
    "collapsed": true
   },
   "source": [
    "\n",
    "## 9. Descriptive statistics on the prototype pokedex\n",
    "\n",
    "<img src=\"http://imgur.com/l5NasQj.png\" style=\"float: left; margin: 25px 15px 0px 0px; height: 25px\">\n",
    "### 9.1\n",
    "\n",
    "What is the population mean and standard deviation of the \"Total\" attribute for all characters in the Pokedex?\n",
    "\n"
   ]
  },
  {
   "cell_type": "markdown",
   "metadata": {},
   "source": [
    "<img src=\"https://i.imgur.com/DB3I7k3.png?1\" style=\"float: left; margin: 15px 15px 0px 0px;\">\n",
    "## Solution\n",
    "\n",
    "\n",
    "---\n"
   ]
  },
  {
   "cell_type": "code",
   "execution_count": 49,
   "metadata": {},
   "outputs": [
    {
     "name": "stdout",
     "output_type": "stream",
     "text": [
      "The population mean is 424.950069348 and the standard deviation is 118.711775818\n"
     ]
    }
   ],
   "source": [
    "import numpy as np\n",
    "\n",
    "total_list = [v['Total'] for k,v in new_pokedex.items()]\n",
    "\n",
    "pop_mean = np.mean(total_list)\n",
    "std_d = np.std(total_list)\n",
    "\n",
    "print 'The population mean is '+str(pop_mean) +' and the standard deviation is '+str(std_d)"
   ]
  },
  {
   "cell_type": "markdown",
   "metadata": {},
   "source": [
    "<img src=\"http://imgur.com/l5NasQj.png\" style=\"float: left; margin: 25px 15px 0px 0px; height: 25px\">\n",
    "### 9.2\n",
    "\n",
    "The game is no fun if the characters are wildly unbalanced! Are any characters \"overpowered\", which we'll define as having a \"Total\" more than three standard deviations from the population mean?"
   ]
  },
  {
   "cell_type": "markdown",
   "metadata": {},
   "source": [
    "<img src=\"https://i.imgur.com/DB3I7k3.png?1\" style=\"float: left; margin: 15px 15px 0px 0px;\">\n",
    "## Solution\n",
    "\n",
    "\n",
    "---\n"
   ]
  },
  {
   "cell_type": "code",
   "execution_count": 50,
   "metadata": {
    "collapsed": true
   },
   "outputs": [],
   "source": [
    "import matplotlib.pyplot as plt\n",
    "import seaborn as sns"
   ]
  },
  {
   "cell_type": "markdown",
   "metadata": {},
   "source": [
    "## Conduct Exploratory Data Analysis"
   ]
  },
  {
   "cell_type": "code",
   "execution_count": 51,
   "metadata": {},
   "outputs": [
    {
     "data": {
      "image/png": "[encoded data removed]",
      "text/plain": [
       "<matplotlib.figure.Figure at 0x11b483d50>"
      ]
     },
     "metadata": {},
     "output_type": "display_data"
    }
   ],
   "source": [
    "# Histogram\n",
    "\n",
    "sns.set()\n",
    "_ = plt.hist(total_list,bins=6)\n",
    "plt.xticks(np.linspace(min(total_list),max(total_list),7))\n",
    "\n",
    "plt.plot([pop_mean,pop_mean], [0,220], 'g-', lw=2,)\n",
    "plt.plot([3*std_d+pop_mean,3*std_d+pop_mean], [0,220], 'r-', lw=2,)\n",
    "\n",
    "plt.xlabel('Pokemon Character Total Power')\n",
    "plt.ylabel('Count')\n",
    "plt.title('Pokemon Character Total Power Histogram')\n",
    "\n",
    "plt.legend(('Population Mean','3 x std dev'),loc='upper right')\n",
    "plt.show()"
   ]
  },
  {
   "cell_type": "code",
   "execution_count": 52,
   "metadata": {},
   "outputs": [
    {
     "data": {
      "image/png": "[encoded data removed]",
      "text/plain": [
       "<matplotlib.figure.Figure at 0x11e8d61d0>"
      ]
     },
     "metadata": {},
     "output_type": "display_data"
    }
   ],
   "source": [
    "# ECDF\n",
    "\n",
    "def ecdf(data):\n",
    "    x = np.sort(data)\n",
    "    y = np.arange(1,len(data)+1) / float(len(x))\n",
    "    _ = plt.plot(x,y,marker = '.',linestyle='None')\n",
    "    \n",
    "    plt.xlabel('Pokemon Character Total Power')\n",
    "    plt.ylabel('ECDF')\n",
    "    plt.title('Pokemon Character Total Power ECDF')\n",
    "    plt.margins(0.02)\n",
    "    \n",
    "    plt.plot([pop_mean,pop_mean], [0,1], 'g-', lw=2,)\n",
    "    plt.plot([3*std_d+pop_mean,3*std_d+pop_mean], [0,1], 'r-', lw=2,)\n",
    "    \n",
    "    plt.legend(('Data Points','Population Mean','3 x std dev'),loc='lower right')\n",
    "    plt.show()\n",
    "\n",
    "ecdf(total_list)"
   ]
  },
  {
   "cell_type": "code",
   "execution_count": 53,
   "metadata": {},
   "outputs": [
    {
     "name": "stdout",
     "output_type": "stream",
     "text": [
      "[]\n"
     ]
    }
   ],
   "source": [
    "# Check if all data are within 3 std dev from pop_mean\n",
    "\n",
    "overpowered = [x for x in total_list if x > 3*std_d+pop_mean]\n",
    "print overpowered    "
   ]
  },
  {
   "cell_type": "markdown",
   "metadata": {},
   "source": [
    "<img src=\"http://imgur.com/xDpSobf.png\" style=\"float: left; margin: 25px 15px 0px 0px; height: 25px\">\n",
    "\n",
    "## 10. Calibrate the frequency of Pokemon\n",
    "\n",
    "The design team wants you to make the powerful Pokemon rare, and the weaklings more common. How would you set the probability $p_i$ of finding Pokemon *i* each time a player visits a gym?\n",
    "\n",
    "Write a function that takes in a Pokedex number and returns a value $p_i$ for that character.\n",
    "\n",
    "Hint: there are many ways you could do this. What do _you_ think makes sense? Start with simplifying assumptions: for example, you could assume that the probabilities of encountering any two Pokemon on one visit to a gym are independent of each other."
   ]
  },
  {
   "cell_type": "markdown",
   "metadata": {},
   "source": [
    "<img src=\"https://i.imgur.com/DB3I7k3.png?1\" style=\"float: left; margin: 15px 15px 0px 0px;\">\n",
    "## Solution\n",
    "\n",
    "\n",
    "---\n"
   ]
  },
  {
   "cell_type": "markdown",
   "metadata": {},
   "source": [
    "## Assumptions and Model\n",
    "\n",
    "### 1. Assume that the probabilities of encountering 2 pokemon on one visit are independent of each other \n",
    "### 2. There are 6 categories of rarity based on their total power:\n",
    "        \n",
    "        Very Common        - total power 180 to 280\n",
    "        Common             - total power 281 to 380\n",
    "        Uncommon           - total power 381 to 480\n",
    "        Rare               - total power 481 to 580\n",
    "        Very Rare          - total power 581 to 680\n",
    "        Epic / Legendary   - total power 681 to 780\n",
    "        \n",
    "### 3. Each category consist of a range of probabilities\n",
    "### 4. Probability $p_i$ of finding Pokemon *i* is random based on range of probabilities in its rarity category\n",
    "### 5. Range of probabilities in each category is as follows:\n",
    "        \n",
    "        Very Common         - 15% to 2.9%\n",
    "        Common              - 3% to 0.39%\n",
    "        Uncommon            - 0.4% to 0.079%\n",
    "        Rare                - 0.08% to 0.019%\n",
    "        Very Rare           - 0.02% to 0.0049%\n",
    "        Epic / Legendary    - 0.005% to 0.001%"
   ]
  },
  {
   "cell_type": "code",
   "execution_count": 54,
   "metadata": {},
   "outputs": [],
   "source": [
    "def probability(pokedex_no):\n",
    "    \n",
    "    import numpy as np\n",
    "\n",
    "    # Set random seed\n",
    "    np.random.seed = (22)\n",
    "    probability = 0.0\n",
    "    \n",
    "    # Identify pokemon's total power from pokedex \n",
    "    if new_pokedex[pokedex_no]['Total'] <= 280:\n",
    "        \n",
    "        # Assign a random probability within the range\n",
    "        probability = np.random.uniform(15.,3.)\n",
    "\n",
    "    elif new_pokedex[pokedex_no]['Total'] <= 380:\n",
    "        probability = np.random.uniform(3.,0.4)\n",
    "\n",
    "    elif new_pokedex[pokedex_no]['Total'] <= 480:\n",
    "        probability = np.random.uniform(0.4,0.08)\n",
    "\n",
    "    elif new_pokedex[pokedex_no]['Total'] <= 580:\n",
    "        probability = np.random.uniform(0.08,0.02)\n",
    "\n",
    "    elif new_pokedex[pokedex_no]['Total'] <= 680:\n",
    "        probability = np.random.uniform(0.02,0.005)\n",
    "\n",
    "    else:\n",
    "        probability = np.random.uniform(0.005,0.001)\n",
    "\n",
    "    return probability"
   ]
  },
  {
   "cell_type": "code",
   "execution_count": 55,
   "metadata": {},
   "outputs": [
    {
     "name": "stdout",
     "output_type": "stream",
     "text": [
      "The Probability of finding RayquazaMega Rayquaza is 0.00127 %\n",
      "The Probability of finding Reshiram is 0.01713 %\n",
      "The Probability of finding Zekrom is 0.00541 %\n",
      "The Probability of finding KyuremWhite Kyurem is 0.00258 %\n",
      "The Probability of finding MewtwoMega Mewtwo Y is 0.00334 %\n",
      "The Probability of finding GarchompMega Garchomp is 0.0019 %\n",
      "The Probability of finding Xerneas is 0.00618 %\n",
      "The Probability of finding Yveltal is 0.01415 %\n",
      "The Probability of finding DiancieMega Diancie is 0.00342 %\n",
      "The Probability of finding HoopaHoopa Unbound is 0.00849 %\n",
      "The Probability of finding TyranitarMega Tyranitar is 0.0033 %\n",
      "The Probability of finding Dialga is 0.0148 %\n",
      "The Probability of finding Palkia is 0.01894 %\n",
      "The Probability of finding GiratinaOrigin Forme is 0.00613 %\n",
      "The Probability of finding Arceus is 0.00358 %\n",
      "The Probability of finding SalamenceMega Salamence is 0.00445 %\n",
      "The Probability of finding MetagrossMega Metagross is 0.00481 %\n",
      "The Probability of finding Lugia is 0.00654 %\n",
      "The Probability of finding Ho-oh is 0.01928 %\n",
      "The Probability of finding LatiasMega Latias is 0.00217 %\n",
      "The Probability of finding LatiosMega Latios is 0.00209 %\n",
      "The Probability of finding KyogrePrimal Kyogre is 0.00273 %\n",
      "The Probability of finding GroudonPrimal Groudon is 0.00283 %\n"
     ]
    }
   ],
   "source": [
    "# Check - Search for a rare pokemon and its corresponding probability\n",
    "\n",
    "search_rare = input_filter_options(total=680)\n",
    "rare_pokemon = filtered_pokedex(new_pokedex, filter=search_rare)\n",
    "\n",
    "for pokemon in rare_pokemon:\n",
    "    for k,v in pokemon.items():\n",
    "        if k == 'Total':\n",
    "            print 'The Probability of finding', pokemon['Name'], 'is',round(probability(pokemon['PokedexNumber']),5),'%'\n"
   ]
  }
 ],
 "metadata": {
  "anaconda-cloud": {},
  "kernelspec": {
   "display_name": "Python 2",
   "language": "python",
   "name": "python2"
  },
  "language_info": {
   "codemirror_mode": {
    "name": "ipython",
    "version": 2
   },
   "file_extension": ".py",
   "mimetype": "text/x-python",
   "name": "python",
   "nbconvert_exporter": "python",
   "pygments_lexer": "ipython2",
   "version": "2.7.13"
  }
 },
 "nbformat": 4,
 "nbformat_minor": 1
}
